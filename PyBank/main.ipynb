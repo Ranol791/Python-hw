{
 "cells": [
  {
   "cell_type": "code",
   "execution_count": 1,
   "id": "d213775c-a462-406e-91fc-fb6c4623d0c8",
   "metadata": {
    "tags": []
   },
   "outputs": [
    {
     "name": "stdout",
     "output_type": "stream",
     "text": [
      "Ranol\n"
     ]
    }
   ],
   "source": [
    "print(\"Ranol\")"
   ]
  },
  {
   "cell_type": "code",
   "execution_count": null,
   "id": "751610b5-d144-463b-8861-24119afc9ada",
   "metadata": {},
   "outputs": [],
   "source": []
  }
 ],
 "metadata": {
  "kernelspec": {
   "display_name": "Python 3 (ipykernel)",
   "language": "python",
   "name": "python3"
  },
  "language_info": {
   "codemirror_mode": {
    "name": "ipython",
    "version": 3
   },
   "file_extension": ".py",
   "mimetype": "text/x-python",
   "name": "python",
   "nbconvert_exporter": "python",
   "pygments_lexer": "ipython3",
   "version": "3.11.4"
  }
 },
 "nbformat": 4,
 "nbformat_minor": 5
}
